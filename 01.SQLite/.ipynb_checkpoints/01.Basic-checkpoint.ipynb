{
 "cells": [
  {
   "cell_type": "code",
   "execution_count": 1,
   "id": "301d1544",
   "metadata": {},
   "outputs": [],
   "source": [
    "import sqlite3"
   ]
  },
  {
   "cell_type": "code",
   "execution_count": 2,
   "id": "523b03d9",
   "metadata": {},
   "outputs": [],
   "source": [
    "sqlite_Connection = sqlite3.connect(\"test.db\")"
   ]
  },
  {
   "cell_type": "code",
   "execution_count": 3,
   "id": "103cbb3b",
   "metadata": {},
   "outputs": [],
   "source": [
    "cursor = sqlite_Connection.cursor()"
   ]
  },
  {
   "cell_type": "code",
   "execution_count": 4,
   "id": "f5d8a5e1",
   "metadata": {},
   "outputs": [],
   "source": [
    "sqlite_Connection.close()"
   ]
  },
  {
   "cell_type": "markdown",
   "id": "25ed280f",
   "metadata": {},
   "source": [
    "- The cursor object is used to make the connection for executing SQL queries.\n",
    "- It acts as middleware between SQLite database connection and SQL query. It is created after giving connection to SQLite database. \n",
    "- The cursor is a control structure used to traverse and fetch the records of the database. \n",
    "- All the commands will be executed using cursor object only."
   ]
  },
  {
   "cell_type": "markdown",
   "id": "b50ef315",
   "metadata": {},
   "source": [
    "## Creating a table"
   ]
  },
  {
   "cell_type": "code",
   "execution_count": 5,
   "id": "c2f3cd61",
   "metadata": {},
   "outputs": [],
   "source": [
    "connection = sqlite3.connect(\"test.db\")\n",
    "\n",
    "cursor = connection.cursor()\n",
    "\n",
    "sql_command = \"\"\"Create Table employee(\n",
    "Employee_ID INTEGER PRIMARY KEY,\n",
    "First_name VARCHAR(30),\n",
    "Last_name VARCHAR(30),\n",
    "Gender  CHAR(1),\n",
    "Joined DATE);\"\"\"\n",
    "\n",
    "cursor.execute(sql_command)\n",
    "\n",
    "connection.close()"
   ]
  },
  {
   "cell_type": "markdown",
   "id": "a763d452",
   "metadata": {},
   "source": [
    "## Inserting into a Table"
   ]
  },
  {
   "cell_type": "code",
   "execution_count": 6,
   "id": "fa2828cb",
   "metadata": {},
   "outputs": [],
   "source": [
    "connection = sqlite3.connect(\"test.db\")\n",
    "\n",
    "cursor = connection.cursor()\n",
    "\n",
    "cursor.execute(\"Insert into employee Values(1,'Elon','Musk','M','2002-10-29')\")\n",
    "\n",
    "connection.commit()"
   ]
  },
  {
   "cell_type": "code",
   "execution_count": 7,
   "id": "c6307c40",
   "metadata": {},
   "outputs": [],
   "source": [
    "connection.close()"
   ]
  },
  {
   "cell_type": "markdown",
   "id": "66e1844d",
   "metadata": {},
   "source": [
    "## Inserting multiple values or user input"
   ]
  },
  {
   "cell_type": "code",
   "execution_count": 8,
   "id": "26faaaea",
   "metadata": {},
   "outputs": [],
   "source": [
    "connection=sqlite3.connect(\"test.db\")\n",
    "\n",
    "cursor = connection.cursor()\n",
    "\n",
    "ID = [2, 3, 4, 5, 6]\n",
    "  \n",
    "first_name = ['Nikhil', 'Nisha', 'Abhinav', 'Raju', 'Anshul']\n",
    "  \n",
    "last_name = ['Aggarwal', 'Rawat', 'Tomar', 'Kumar', 'Aggarwal']\n",
    "  \n",
    "gender = ['M', 'F', 'M', 'M', 'F']\n",
    "  \n",
    "date = ['2019-08-24', '2020-01-01', '2018-05-14', '2015-02-02', '2018-05-14']\n",
    "\n",
    "for i in range(len(ID)):\n",
    "    cursor.execute(f\"Insert  into employee Values({ID[i]},'{first_name[i]}','{last_name[i]}','{gender[i]}','{date[i]}')\")\n",
    "\n",
    "connection.commit()"
   ]
  },
  {
   "cell_type": "code",
   "execution_count": 9,
   "id": "ad03fea6",
   "metadata": {},
   "outputs": [],
   "source": [
    "connection.close()"
   ]
  },
  {
   "cell_type": "markdown",
   "id": "7279e2f3",
   "metadata": {},
   "source": [
    "## Fetching Data"
   ]
  },
  {
   "cell_type": "code",
   "execution_count": 10,
   "id": "b4580241",
   "metadata": {},
   "outputs": [
    {
     "name": "stdout",
     "output_type": "stream",
     "text": [
      "(1, 'Elon', 'Musk', 'M', '2002-10-29')\n",
      "(2, 'Nikhil', 'Aggarwal', 'M', '2019-08-24')\n",
      "(3, 'Nisha', 'Rawat', 'F', '2020-01-01')\n",
      "(4, 'Abhinav', 'Tomar', 'M', '2018-05-14')\n",
      "(5, 'Raju', 'Kumar', 'M', '2015-02-02')\n",
      "(6, 'Anshul', 'Aggarwal', 'F', '2018-05-14')\n"
     ]
    }
   ],
   "source": [
    "connection = sqlite3.connect(\"test.db\")\n",
    "\n",
    "cursor = connection.cursor()\n",
    "\n",
    "cursor.execute(\"Select * from employee\")\n",
    "\n",
    "result = cursor.fetchall()\n",
    "\n",
    "for i in result:\n",
    "    print(i)\n",
    "    \n",
    "connection.close()"
   ]
  },
  {
   "cell_type": "markdown",
   "id": "8012e191",
   "metadata": {},
   "source": [
    "## Updating Data"
   ]
  },
  {
   "cell_type": "code",
   "execution_count": 11,
   "id": "19e69ab4",
   "metadata": {},
   "outputs": [
    {
     "name": "stdout",
     "output_type": "stream",
     "text": [
      "(1, 'Elonn', 'Musk', 'M', '2002-10-29')\n",
      "(2, 'Nikhil', 'Aggarwal', 'M', '2019-08-24')\n",
      "(3, 'Nisha', 'Rawat', 'F', '2020-01-01')\n",
      "(4, 'Abhinav', 'Tomar', 'M', '2018-05-14')\n",
      "(5, 'Raju', 'Kumar', 'M', '2015-02-02')\n",
      "(6, 'Anshul', 'Aggarwal', 'F', '2018-05-14')\n"
     ]
    }
   ],
   "source": [
    "connection = sqlite3.connect(\"test.db\")\n",
    "\n",
    "cursor = connection.cursor()\n",
    "\n",
    "cursor.execute(\"Update  employee set first_name='Elonn' where last_name='Musk'\")\n",
    "\n",
    "connection.commit()\n",
    "\n",
    "cursor.execute(\"Select * from employee\")\n",
    "\n",
    "result = cursor.fetchall()\n",
    "\n",
    "for i in result:\n",
    "    print(i)\n",
    "\n",
    "cursor.close()"
   ]
  },
  {
   "cell_type": "markdown",
   "id": "b3f9744d",
   "metadata": {},
   "source": [
    "## Deleting Data"
   ]
  },
  {
   "cell_type": "code",
   "execution_count": 12,
   "id": "6842bd53",
   "metadata": {},
   "outputs": [
    {
     "name": "stdout",
     "output_type": "stream",
     "text": [
      "(1, 'Elonn', 'Musk', 'M', '2002-10-29')\n",
      "(2, 'Nikhil', 'Aggarwal', 'M', '2019-08-24')\n",
      "(4, 'Abhinav', 'Tomar', 'M', '2018-05-14')\n",
      "(5, 'Raju', 'Kumar', 'M', '2015-02-02')\n",
      "(6, 'Anshul', 'Aggarwal', 'F', '2018-05-14')\n"
     ]
    }
   ],
   "source": [
    "connection = sqlite3.connect(\"test.db\")\n",
    "\n",
    "cursor = connection.cursor()\n",
    "\n",
    "cursor.execute(\"Delete From employee where first_name='Nisha'\")\n",
    "\n",
    "connection.commit()\n",
    "\n",
    "cursor.execute(\"Select * from employee\")\n",
    "\n",
    "result = cursor.fetchall()\n",
    "\n",
    "for i in result:\n",
    "    print(i)\n",
    "\n",
    "cursor.close()"
   ]
  },
  {
   "cell_type": "markdown",
   "id": "495e8dd4",
   "metadata": {},
   "source": [
    "## Drop table name is used to delete  the entire table"
   ]
  },
  {
   "cell_type": "code",
   "execution_count": null,
   "id": "da513044",
   "metadata": {},
   "outputs": [],
   "source": []
  }
 ],
 "metadata": {
  "kernelspec": {
   "display_name": "Python 3",
   "language": "python",
   "name": "python3"
  },
  "language_info": {
   "codemirror_mode": {
    "name": "ipython",
    "version": 3
   },
   "file_extension": ".py",
   "mimetype": "text/x-python",
   "name": "python",
   "nbconvert_exporter": "python",
   "pygments_lexer": "ipython3",
   "version": "3.8.8"
  }
 },
 "nbformat": 4,
 "nbformat_minor": 5
}
