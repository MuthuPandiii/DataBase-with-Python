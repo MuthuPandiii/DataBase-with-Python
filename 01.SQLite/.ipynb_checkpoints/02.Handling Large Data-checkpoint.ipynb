{
 "cells": [
  {
   "cell_type": "code",
   "execution_count": 1,
   "id": "10a3029e",
   "metadata": {},
   "outputs": [],
   "source": [
    "import sqlite3"
   ]
  },
  {
   "cell_type": "markdown",
   "id": "2b694f7f",
   "metadata": {},
   "source": [
    "## executescript"
   ]
  },
  {
   "cell_type": "code",
   "execution_count": 8,
   "id": "a32ee482",
   "metadata": {},
   "outputs": [
    {
     "name": "stdout",
     "output_type": "stream",
     "text": [
      "[(1, 'Muthu', 'Pandi')]\n"
     ]
    }
   ],
   "source": [
    "connection = sqlite3.connect(\"database.db\")\n",
    "\n",
    "cursor = connection.cursor()\n",
    "\n",
    "cursor.executescript(\"\"\"\n",
    "    Create table Student(\n",
    "        Student_ID Integer Primary Key,\n",
    "        First_Name Varchar(30),\n",
    "        Last_Name Varchar(30)\n",
    "    );\n",
    "    \n",
    "    Create table Book(\n",
    "        Name Varchar(50),\n",
    "        Author Varchar(50),\n",
    "        Pages Integer\n",
    "    );\n",
    "    \n",
    "    Insert into Student values(1,\"Muthu\",\"Pandi\");\n",
    "    \n",
    "    Insert into Book values(\"Data Structure\",\"Debasis Samantha\",'500');\n",
    "\n",
    "\"\"\")\n",
    "\n",
    "connection.commit()\n",
    "\n",
    "cursor.execute(\"Select * from Student\")\n",
    "\n",
    "result  = cursor.fetchall()\n",
    "\n",
    "print(result)\n",
    "\n",
    "connection.close()\n"
   ]
  },
  {
   "cell_type": "markdown",
   "id": "ff8b65ac",
   "metadata": {},
   "source": [
    "## Executemany"
   ]
  },
  {
   "cell_type": "code",
   "execution_count": 12,
   "id": "d9984c25",
   "metadata": {},
   "outputs": [
    {
     "name": "stdout",
     "output_type": "stream",
     "text": [
      "(1, 'Muthu', 'Pandi')\n",
      "(2, 'Gokul', 'Nath')\n",
      "(3, 'Delson', 'Anne')\n",
      "(4, 'Bharath', 'Gifta')\n",
      "\n",
      "\n",
      "('Data Structure', 'Debasis Samantha', 500)\n",
      "('AI', 'Stuart', 700)\n",
      "('JS', 'Elon', 900)\n",
      "('Game  Development', 'PUBG', 200)\n"
     ]
    }
   ],
   "source": [
    "connection = sqlite3.connect(\"database.db\")\n",
    "\n",
    "cursor = connection.cursor()\n",
    "\n",
    "StudentList = [(2,\"Gokul\",\"Nath\"),(3,\"Delson\",\"Anne\"),(4,\"Bharath\",\"Gifta\")]\n",
    "\n",
    "connection.executemany(\"\"\"Insert into Student  values(?,?,?)\"\"\",StudentList)\n",
    "\n",
    "BookList = [(\"AI\",\"Stuart\",'700'),(\"JS\",\"Elon\",'900'),(\"Game  Development\",\"PUBG\",'200')]\n",
    "\n",
    "connection.executemany(\"\"\"Insert  into Book values(?,?,?)\"\"\",BookList)\n",
    "\n",
    "connection.commit()\n",
    "\n",
    "cursor.execute(\"Select * from Student\")\n",
    "\n",
    "result  = cursor.fetchall()\n",
    "\n",
    "for i in result:\n",
    "    print(i)\n",
    "\n",
    "cursor.execute(\"Select * from Book\")\n",
    "\n",
    "result  = cursor.fetchall()\n",
    "\n",
    "print(\"\\n\")\n",
    "for i in result:\n",
    "    print(i)\n",
    "\n",
    "connection.close()"
   ]
  },
  {
   "cell_type": "code",
   "execution_count": null,
   "id": "a0a7701a",
   "metadata": {},
   "outputs": [],
   "source": []
  }
 ],
 "metadata": {
  "kernelspec": {
   "display_name": "Python 3",
   "language": "python",
   "name": "python3"
  },
  "language_info": {
   "codemirror_mode": {
    "name": "ipython",
    "version": 3
   },
   "file_extension": ".py",
   "mimetype": "text/x-python",
   "name": "python",
   "nbconvert_exporter": "python",
   "pygments_lexer": "ipython3",
   "version": "3.8.8"
  }
 },
 "nbformat": 4,
 "nbformat_minor": 5
}
