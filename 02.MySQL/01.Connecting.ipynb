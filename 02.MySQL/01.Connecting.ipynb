{
 "cells": [
  {
   "cell_type": "code",
   "execution_count": 3,
   "id": "97edcc15",
   "metadata": {},
   "outputs": [],
   "source": [
    "import mysql.connector as db"
   ]
  },
  {
   "cell_type": "code",
   "execution_count": 4,
   "id": "8f357219",
   "metadata": {},
   "outputs": [
    {
     "name": "stdout",
     "output_type": "stream",
     "text": [
      "<mysql.connector.connection_cext.CMySQLConnection object at 0x000001BEC4E44FA0>\n"
     ]
    },
    {
     "data": {
      "text/plain": [
       "<bound method CMySQLConnection.close of <mysql.connector.connection_cext.CMySQLConnection object at 0x000001BEC4E44FA0>>"
      ]
     },
     "execution_count": 4,
     "metadata": {},
     "output_type": "execute_result"
    }
   ],
   "source": [
    "dataBase = db.connect(host=\"localhost\",\n",
    "                      user=\"root\",\n",
    "                      passwd=\"g2l3b5@2002M\")\n",
    "\n",
    "print(dataBase)\n",
    "\n",
    "dataBase.close"
   ]
  },
  {
   "cell_type": "markdown",
   "id": "49053d5c",
   "metadata": {},
   "source": [
    "## Creating DataBase"
   ]
  },
  {
   "cell_type": "code",
   "execution_count": 5,
   "id": "9c600b52",
   "metadata": {},
   "outputs": [],
   "source": [
    "cursor = dataBase.cursor()"
   ]
  },
  {
   "cell_type": "code",
   "execution_count": 6,
   "id": "4081bf1b",
   "metadata": {},
   "outputs": [],
   "source": [
    "cursor.execute(\"Create DataBase Demo1\")"
   ]
  },
  {
   "cell_type": "code",
   "execution_count": 7,
   "id": "8da6d0bb",
   "metadata": {},
   "outputs": [],
   "source": [
    "dataBase.close()"
   ]
  },
  {
   "cell_type": "markdown",
   "id": "ea2e1f8a",
   "metadata": {},
   "source": [
    "## Creating Table"
   ]
  },
  {
   "cell_type": "code",
   "execution_count": 8,
   "id": "64cfcdde",
   "metadata": {},
   "outputs": [],
   "source": [
    "database= db.connect(\n",
    "        host = \"localhost\",\n",
    "        user = \"root\",\n",
    "        password=\"g2l3b5@2002M\",\n",
    "        database = \"demo1\"\n",
    ")\n",
    "\n",
    "cursor = database.cursor()"
   ]
  },
  {
   "cell_type": "code",
   "execution_count": 9,
   "id": "2a3bb98d",
   "metadata": {},
   "outputs": [],
   "source": [
    "student_record = '''\n",
    "    CREATE TABLE STUDENT(\n",
    "        STUDENT_ID INT NOT NULL AUTO_INCREMENT,\n",
    "        NAME VARCHAR(30) NOT NULL,\n",
    "        BRANCH  VARCHAR(30),\n",
    "        ROLL_NUMBER VARCHAR(10) NOT NULL,\n",
    "        SECTION VARCHAR(5),\n",
    "        AGE INT,\n",
    "        PRIMARY KEY(STUDENT_ID)\n",
    "    )\n",
    "'''\n",
    "\n",
    "cursor.execute(student_record)\n"
   ]
  },
  {
   "cell_type": "markdown",
   "id": "c7dd88fe",
   "metadata": {},
   "source": [
    "## INSERTING INTO TABLES\n"
   ]
  },
  {
   "cell_type": "markdown",
   "id": "85a5603b",
   "metadata": {},
   "source": [
    "### `INSERTING SINGLE ROW`"
   ]
  },
  {
   "cell_type": "code",
   "execution_count": 10,
   "id": "a7ae93da",
   "metadata": {},
   "outputs": [],
   "source": [
    "command = \"\"\"\n",
    "    INSERT INTO STUDENT VALUES('1','MUTHU','CSE','2036','E','19')\n",
    "\"\"\"\n",
    "\n",
    "cursor.execute(command)\n",
    "\n",
    "database.commit()"
   ]
  },
  {
   "cell_type": "markdown",
   "id": "0768b8fc",
   "metadata": {},
   "source": [
    "**Alternative Method**"
   ]
  },
  {
   "cell_type": "code",
   "execution_count": 11,
   "id": "70f12a4f",
   "metadata": {},
   "outputs": [],
   "source": [
    "command = \"INSERT INTO STUDENT VALUES(%s,%s,%s,%s,%s,%s)\"\n",
    "\n",
    "value = ('2','PANDI','CSE','2037','E','19')\n",
    "\n",
    "cursor.execute(command,value)\n",
    "\n",
    "database.commit()"
   ]
  },
  {
   "cell_type": "markdown",
   "id": "706154c1",
   "metadata": {},
   "source": [
    "## INSERTING MULTIPLE ROWS"
   ]
  },
  {
   "cell_type": "code",
   "execution_count": 12,
   "id": "701102e8",
   "metadata": {},
   "outputs": [],
   "source": [
    "command = \"INSERT INTO STUDENT(NAME,BRANCH,ROLL_NUMBER,SECTION,AGE) VALUES(%s,%s,%s,%s,%s)\"\n",
    "\n",
    "val = [(\"Nikhil\", \"CSE\", \"98\", \"A\", \"18\"),\n",
    "       (\"Nisha\", \"CSE\", \"99\", \"A\", \"18\"),\n",
    "       (\"Rohan\", \"MAE\", \"43\", \"B\", \"20\"),\n",
    "       (\"Amit\", \"ECE\", \"24\", \"A\", \"21\"),\n",
    "       (\"Anil\", \"MAE\", \"45\", \"B\", \"20\"),\n",
    "       (\"Megha\", \"ECE\", \"55\", \"A\", \"22\"),\n",
    "       (\"Sita\", \"CSE\", \"95\", \"A\", \"19\")]\n",
    "\n",
    "cursor.executemany(command,val)\n",
    "\n",
    "database.commit()"
   ]
  },
  {
   "cell_type": "markdown",
   "id": "4df42ed1",
   "metadata": {},
   "source": [
    "## SELECT STATEMENT"
   ]
  },
  {
   "cell_type": "code",
   "execution_count": 13,
   "id": "863dbf24",
   "metadata": {},
   "outputs": [],
   "source": [
    "cursor = database.cursor()"
   ]
  },
  {
   "cell_type": "code",
   "execution_count": 14,
   "id": "649c14a8",
   "metadata": {},
   "outputs": [
    {
     "name": "stdout",
     "output_type": "stream",
     "text": [
      "[(1, 'MUTHU', 'CSE', '2036', 'E', 19), (2, 'PANDI', 'CSE', '2037', 'E', 19), (3, 'Nikhil', 'CSE', '98', 'A', 18), (4, 'Nisha', 'CSE', '99', 'A', 18), (9, 'Sita', 'CSE', '95', 'A', 19)]\n"
     ]
    }
   ],
   "source": [
    "command = \"SELECT * FROM STUDENT WHERE BRANCH='CSE'\"\n",
    "\n",
    "cursor.execute(command)\n",
    "\n",
    "result =  cursor.fetchall()\n",
    "\n",
    "print(result)"
   ]
  },
  {
   "cell_type": "markdown",
   "id": "5f7f5c9c",
   "metadata": {},
   "source": [
    "##  WHERE Statement"
   ]
  },
  {
   "cell_type": "code",
   "execution_count": 15,
   "id": "3c0eae91",
   "metadata": {},
   "outputs": [
    {
     "name": "stdout",
     "output_type": "stream",
     "text": [
      "(1, 'MUTHU', 'CSE', '2036', 'E', 19)\n",
      "(2, 'PANDI', 'CSE', '2037', 'E', 19)\n",
      "(9, 'Sita', 'CSE', '95', 'A', 19)\n"
     ]
    }
   ],
   "source": [
    "cursor.execute(\"SELECT  * FROM STUDENT WHERE BRANCH='CSE' AND AGE>=19\")\n",
    "\n",
    "result = cursor.fetchall()\n",
    "\n",
    "for i in result:\n",
    "    print(i)"
   ]
  },
  {
   "cell_type": "markdown",
   "id": "9be095a3",
   "metadata": {},
   "source": [
    "### Similary all other  queries like `Order_by` , `Update` etc.., can be used in the same manner"
   ]
  },
  {
   "cell_type": "code",
   "execution_count": 42,
   "id": "f0b3a0f1",
   "metadata": {},
   "outputs": [],
   "source": [
    "database.close()"
   ]
  },
  {
   "cell_type": "code",
   "execution_count": 53,
   "id": "88c0ac17",
   "metadata": {},
   "outputs": [],
   "source": [
    "database= db.connect(\n",
    "        host = \"localhost\",\n",
    "        user = \"root\",\n",
    "        password=\"g2l3b5@2002M\",\n",
    "        database = \"demo1\"\n",
    ")\n",
    "\n",
    "cursor = database.cursor()"
   ]
  },
  {
   "cell_type": "code",
   "execution_count": 54,
   "id": "feb87e65",
   "metadata": {},
   "outputs": [],
   "source": [
    "cursor.execute(\"Select * from Student\")\n",
    "\n",
    "c=cursor.fetchall()\n",
    "\n",
    "database.close()"
   ]
  },
  {
   "cell_type": "code",
   "execution_count": 56,
   "id": "54bf19d8",
   "metadata": {},
   "outputs": [
    {
     "data": {
      "text/plain": [
       "9"
      ]
     },
     "execution_count": 56,
     "metadata": {},
     "output_type": "execute_result"
    }
   ],
   "source": [
    "len(c)"
   ]
  },
  {
   "cell_type": "markdown",
   "id": "a7d3dd7d",
   "metadata": {},
   "source": [
    "<hr>"
   ]
  }
 ],
 "metadata": {
  "kernelspec": {
   "display_name": "Python 3",
   "language": "python",
   "name": "python3"
  },
  "language_info": {
   "codemirror_mode": {
    "name": "ipython",
    "version": 3
   },
   "file_extension": ".py",
   "mimetype": "text/x-python",
   "name": "python",
   "nbconvert_exporter": "python",
   "pygments_lexer": "ipython3",
   "version": "3.8.8"
  }
 },
 "nbformat": 4,
 "nbformat_minor": 5
}
